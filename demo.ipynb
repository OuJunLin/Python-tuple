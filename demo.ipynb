{
 "cells": [
  {
   "cell_type": "markdown",
   "metadata": {},
   "source": [
    "## 可以用來儲存許多元素，並且儲存進去的值不能被更動"
   ]
  },
  {
   "cell_type": "code",
   "execution_count": 1,
   "metadata": {},
   "outputs": [
    {
     "name": "stdout",
     "output_type": "stream",
     "text": [
      "('val1',) <class 'tuple'>\n",
      "val2 <class 'str'>\n"
     ]
    }
   ],
   "source": [
    "tup1 = (\"val1\", )\n",
    "print(tup1, type(tup1))\n",
    "\n",
    "tup2 = (\"val2\")\n",
    "print(tup2, type(tup2))"
   ]
  },
  {
   "cell_type": "markdown",
   "metadata": {},
   "source": [
    "## 也可以用函式來建構 tuple"
   ]
  },
  {
   "cell_type": "code",
   "execution_count": 2,
   "metadata": {},
   "outputs": [
    {
     "name": "stdout",
     "output_type": "stream",
     "text": [
      "('val3',) <class 'tuple'>\n"
     ]
    }
   ],
   "source": [
    "tup3 = tuple((\"val3\", ))\n",
    "print(tup3, type(tup3))"
   ]
  },
  {
   "cell_type": "markdown",
   "metadata": {},
   "source": [
    "## 可以使用 [ ] 來查找 tuple 內的 item"
   ]
  },
  {
   "cell_type": "code",
   "execution_count": 3,
   "metadata": {},
   "outputs": [
    {
     "name": "stdout",
     "output_type": "stream",
     "text": [
      "str1\tstr3\n"
     ]
    }
   ],
   "source": [
    "tup4 = (\"str1\", \"str2\", \"str3\")\n",
    "print(tup4[0], tup4[-1], sep=\"\\t\")"
   ]
  },
  {
   "cell_type": "markdown",
   "metadata": {},
   "source": [
    "## 也可以用 for 迴圈來印出 tuple 的內容"
   ]
  },
  {
   "cell_type": "code",
   "execution_count": 4,
   "metadata": {},
   "outputs": [
    {
     "name": "stdout",
     "output_type": "stream",
     "text": [
      "pri1\n",
      "pri2\n",
      "pri3\n"
     ]
    }
   ],
   "source": [
    "tup5 = (\"pri1\", \"pri2\", \"pri3\")\n",
    "for item in tup5:\n",
    "    print(item)"
   ]
  },
  {
   "cell_type": "markdown",
   "metadata": {},
   "source": [
    "## 使用 enumerate() 函式可以同時印出 tuple 的 index 和 item"
   ]
  },
  {
   "cell_type": "code",
   "execution_count": 5,
   "metadata": {},
   "outputs": [
    {
     "name": "stdout",
     "output_type": "stream",
     "text": [
      "0 pri4\n",
      "1 pri5\n",
      "2 pri6\n"
     ]
    }
   ],
   "source": [
    "tup6 = (\"pri4\", \"pri5\", \"pri6\")\n",
    "for idx, item in enumerate(tup6):\n",
    "    print(idx, item)"
   ]
  },
  {
   "cell_type": "markdown",
   "metadata": {},
   "source": [
    "## 使用 in 可以檢查 tuple 裡面的值是否存在"
   ]
  },
  {
   "cell_type": "code",
   "execution_count": 6,
   "metadata": {},
   "outputs": [
    {
     "name": "stdout",
     "output_type": "stream",
     "text": [
      "YES\n",
      "NO\n"
     ]
    }
   ],
   "source": [
    "tup8 = (\"test1\", \"test2\", \"test3\")\n",
    "if \"test1\" in tup8:\n",
    "    print(\"YES\")\n",
    "\n",
    "if \"test\" in tup8:\n",
    "    print(\"YES\")\n",
    "else:\n",
    "    print(\"NO\")"
   ]
  },
  {
   "cell_type": "markdown",
   "metadata": {},
   "source": [
    "## 要更改 tuple 的內容時，要先將其轉換成 list 在轉換成 tuple"
   ]
  },
  {
   "cell_type": "code",
   "execution_count": 7,
   "metadata": {},
   "outputs": [
    {
     "name": "stdout",
     "output_type": "stream",
     "text": [
      "0 test1\n",
      "1 test2\n",
      "2 test3\n",
      "---------------\n",
      "0 test1\n",
      "1 test2\n",
      "2 test3\n",
      "3 test4\n"
     ]
    }
   ],
   "source": [
    "tup8 = (\"test1\", \"test2\", \"test3\")\n",
    "for idx, item in enumerate(tup8):\n",
    "    print(idx, item)\n",
    "\n",
    "print(\"---\" * 5)\n",
    "#add new item into a tuple\n",
    "tem_list = list(tup8)\n",
    "tem_list.append(\"test4\")\n",
    "tup8 = tuple(tem_list)\n",
    "\n",
    "for idx, item in enumerate(tup8):\n",
    "    print(idx, item)"
   ]
  },
  {
   "cell_type": "markdown",
   "metadata": {},
   "source": [
    "## 也可以在 tuple 裡加入一個 tuple"
   ]
  },
  {
   "cell_type": "code",
   "execution_count": 8,
   "metadata": {},
   "outputs": [
    {
     "name": "stdout",
     "output_type": "stream",
     "text": [
      "0 test1\n",
      "1 test2\n",
      "2 test3\n",
      "---------------\n",
      "0 test1\n",
      "1 test2\n",
      "2 test3\n",
      "3 ('tup1', 'tup2', 'tup3')\n",
      "---------------\n",
      "0 tup1\n",
      "1 tup2\n",
      "2 tup3\n"
     ]
    }
   ],
   "source": [
    "tup8 = (\"test1\", \"test2\", \"test3\")\n",
    "for idx, item in enumerate(tup8):\n",
    "    print(idx, item)\n",
    "\n",
    "print(\"---\" * 5)\n",
    "#add new item into a tuple\n",
    "tem_list = list(tup8)\n",
    "tem_list.append((\"tup1\", \"tup2\", \"tup3\"))\n",
    "tup8 = tuple(tem_list)\n",
    "\n",
    "for idx, item in enumerate(tup8):\n",
    "    print(idx, item)\n",
    "    \n",
    "print(\"---\" * 5)\n",
    "for idx, item in enumerate(tup8[-1]):\n",
    "    print(idx, item)"
   ]
  },
  {
   "cell_type": "markdown",
   "metadata": {},
   "source": [
    "## 要刪除 tuple 的內容時，也必須將 tuple 轉換成 list"
   ]
  },
  {
   "cell_type": "code",
   "execution_count": 9,
   "metadata": {},
   "outputs": [
    {
     "name": "stdout",
     "output_type": "stream",
     "text": [
      "0 test1\n",
      "1 test2\n",
      "2 test3\n",
      "---------------\n",
      "0 test1\n",
      "1 test2\n"
     ]
    }
   ],
   "source": [
    "tup8 = (\"test1\", \"test2\", \"test3\")\n",
    "for idx, item in enumerate(tup8):\n",
    "    print(idx, item)\n",
    "\n",
    "print(\"---\" * 5)\n",
    "#remove item into a tuple\n",
    "tem_list = list(tup8)\n",
    "tem_list.remove(\"test3\")\n",
    "tup8 = tuple(tem_list)\n",
    "\n",
    "for idx, item in enumerate(tup8):\n",
    "    print(idx, item)"
   ]
  },
  {
   "cell_type": "markdown",
   "metadata": {},
   "source": [
    "## tuple 的內容也能被拆裝成各個變數"
   ]
  },
  {
   "cell_type": "code",
   "execution_count": 10,
   "metadata": {},
   "outputs": [
    {
     "name": "stdout",
     "output_type": "stream",
     "text": [
      "0 test1\n",
      "1 test2\n",
      "2 test3\n",
      "---------------\n",
      "test1\ttest2\ttest3\n"
     ]
    }
   ],
   "source": [
    "tup8 = (\"test1\", \"test2\", \"test3\")\n",
    "for idx, item in enumerate(tup8):\n",
    "    print(idx, item)\n",
    "\n",
    "print(\"---\" * 5)\n",
    "#unpack tuple\n",
    "(val1, val2, val3) = tup8\n",
    "\n",
    "print(val1, val2, val3, sep=\"\\t\")"
   ]
  },
  {
   "cell_type": "markdown",
   "metadata": {},
   "source": [
    "## 使用 tuple.count 可以查詢 item 在 tuple 出現的次數"
   ]
  },
  {
   "cell_type": "code",
   "execution_count": 11,
   "metadata": {},
   "outputs": [
    {
     "name": "stdout",
     "output_type": "stream",
     "text": [
      "3\n"
     ]
    }
   ],
   "source": [
    "tup9 = (\"test4\", \"test5\", \"test6\", \"test6\", \"test6\")\n",
    "print(tup9.count(\"test6\"))"
   ]
  },
  {
   "cell_type": "markdown",
   "metadata": {},
   "source": [
    "## 使用數學符號可以對 tuple 進行合併"
   ]
  },
  {
   "cell_type": "code",
   "execution_count": 12,
   "metadata": {},
   "outputs": [
    {
     "name": "stdout",
     "output_type": "stream",
     "text": [
      "0 test4\n",
      "1 test5\n",
      "2 test6\n",
      "3 test7\n",
      "4 test8\n",
      "---------------\n",
      "0 test4\n",
      "1 test5\n",
      "2 test6\n",
      "3 test7\n",
      "4 test8\n",
      "5 test4\n",
      "6 test5\n",
      "7 test6\n",
      "8 test7\n",
      "9 test8\n"
     ]
    }
   ],
   "source": [
    "tup9 = (\"test4\", \"test5\", \"test6\")\n",
    "tup10 = (\"test7\", \"test8\")\n",
    "\n",
    "tup11 = tup9 + tup10\n",
    "for idx, item in enumerate(tup11):\n",
    "    print(idx, item)\n",
    "\n",
    "print(\"---\" * 5)\n",
    "tup12 = tup11 * 2\n",
    "for idx, item in enumerate(tup12):\n",
    "    print(idx, item)"
   ]
  }
 ],
 "metadata": {
  "kernelspec": {
   "display_name": "Python 3.10.6 64-bit",
   "language": "python",
   "name": "python3"
  },
  "language_info": {
   "codemirror_mode": {
    "name": "ipython",
    "version": 3
   },
   "file_extension": ".py",
   "mimetype": "text/x-python",
   "name": "python",
   "nbconvert_exporter": "python",
   "pygments_lexer": "ipython3",
   "version": "3.10.6"
  },
  "orig_nbformat": 4,
  "vscode": {
   "interpreter": {
    "hash": "fb4569285eef3a3450cb62085a5b1e0da4bce0af555edc33dcf29baf3acc1368"
   }
  }
 },
 "nbformat": 4,
 "nbformat_minor": 2
}
